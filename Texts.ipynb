{
 "cells": [
  {
   "cell_type": "code",
   "execution_count": 1,
   "metadata": {
    "collapsed": false
   },
   "outputs": [],
   "source": [
    "from gensim import matutils\n",
    "from gensim.models.ldamodel import LdaModel\n",
    "from sklearn.feature_extraction.text import CountVectorizer\n",
    "from time import time\n",
    "from gensim.corpora import Dictionary"
   ]
  },
  {
   "cell_type": "markdown",
   "metadata": {},
   "source": [
    "Считываем данные из файла. Заметим, что первое слово статьи соответсвует ее теме."
   ]
  },
  {
   "cell_type": "code",
   "execution_count": 2,
   "metadata": {
    "collapsed": true
   },
   "outputs": [],
   "source": [
    "data_train = open('r8-train-stemmed.txt', 'r')"
   ]
  },
  {
   "cell_type": "code",
   "execution_count": 3,
   "metadata": {
    "collapsed": false
   },
   "outputs": [],
   "source": [
    "texts = []\n",
    "themes = []"
   ]
  },
  {
   "cell_type": "markdown",
   "metadata": {},
   "source": [
    "Извлекаем из статьи ее тему"
   ]
  },
  {
   "cell_type": "code",
   "execution_count": 4,
   "metadata": {
    "collapsed": false
   },
   "outputs": [],
   "source": [
    "for line in data_train:\n",
    "    words = line.split()\n",
    "    theme = words.pop(0)\n",
    "    if theme not in themes:\n",
    "        themes.append(theme)\n",
    "    text = ' '.join(words)\n",
    "    texts.append(text)"
   ]
  },
  {
   "cell_type": "code",
   "execution_count": 5,
   "metadata": {
    "collapsed": false
   },
   "outputs": [
    {
     "name": "stdout",
     "output_type": "stream",
     "text": [
      "The themes are ['earn', 'acq', 'trade', 'ship', 'grain', 'crude', 'interest', 'money-fx']\n",
      "Total number of themes is 8\n"
     ]
    }
   ],
   "source": [
    "print \"The themes are\", themes\n",
    "print \"Total number of themes is\", len(themes)"
   ]
  },
  {
   "cell_type": "markdown",
   "metadata": {},
   "source": [
    "Приводим данные к нужному виду."
   ]
  },
  {
   "cell_type": "code",
   "execution_count": 6,
   "metadata": {
    "collapsed": false
   },
   "outputs": [],
   "source": [
    "vectorizer = CountVectorizer(stop_words='english', analyzer='word', min_df=2, max_df=0.4)\n",
    "vec = vectorizer.fit_transform(texts)\n",
    "vocab = vectorizer.get_feature_names()"
   ]
  },
  {
   "cell_type": "code",
   "execution_count": 7,
   "metadata": {
    "collapsed": false
   },
   "outputs": [],
   "source": [
    "id2word = dict([(word_id, word) for word_id, word in enumerate(vocab)])\n",
    "corpus = matutils.Sparse2Corpus(vec, documents_columns=False)"
   ]
  },
  {
   "cell_type": "markdown",
   "metadata": {},
   "source": [
    "Обучаем"
   ]
  },
  {
   "cell_type": "code",
   "execution_count": 8,
   "metadata": {
    "collapsed": false
   },
   "outputs": [
    {
     "name": "stdout",
     "output_type": "stream",
     "text": [
      "Training time: 4.68663599888\n"
     ]
    }
   ],
   "source": [
    "start = time()\n",
    "lda = LdaModel(corpus, id2word=id2word, num_topics=8, alpha='auto', update_every=1, passes=30)\n",
    "finish = time()\n",
    "print 'Training time: {}'.format((finish - start) / 60)"
   ]
  },
  {
   "cell_type": "code",
   "execution_count": 9,
   "metadata": {
    "collapsed": false
   },
   "outputs": [
    {
     "data": {
      "text/plain": [
       "[(0,\n",
       "  u'0.095*ct + 0.056*record + 0.056*april + 0.052*dividend + 0.041*div + 0.036*pai + 0.032*prior + 0.031*march + 0.031*qtly + 0.026*set'),\n",
       " (1,\n",
       "  u'0.107*ct + 0.107*loss + 0.105*net + 0.083*shr + 0.045*profit + 0.042*rev + 0.041*year + 0.038*qtr + 0.035*oper + 0.024*note'),\n",
       " (2,\n",
       "  u'0.024*unit + 0.021*compani + 0.020*sale + 0.019*corp + 0.014*sell + 0.011*oper + 0.011*complet + 0.010*acquisit + 0.009*industri + 0.009*subsidiari'),\n",
       " (3,\n",
       "  u'0.041*share + 0.026*compani + 0.022*offer + 0.018*pct + 0.014*stock + 0.013*corp + 0.012*group + 0.010*stake + 0.010*merger + 0.009*sharehold'),\n",
       " (4,\n",
       "  u'0.029*trade + 0.015*japan + 0.010*offici + 0.010*japanes + 0.010*market + 0.008*foreign + 0.008*govern + 0.008*state + 0.007*countri + 0.007*dollar'),\n",
       " (5,\n",
       "  u'0.059*stock + 0.042*split + 0.033*share + 0.023*compani + 0.017*common + 0.015*pct + 0.012*sharehold + 0.012*approv + 0.012*board + 0.011*dividend'),\n",
       " (6,\n",
       "  u'0.045*oil + 0.022*price + 0.013*franc + 0.012*crude + 0.012*barrel + 0.012*opec + 0.010*bpd + 0.009*export + 0.009*billion + 0.008*product'),\n",
       " (7,\n",
       "  u'0.031*bank + 0.029*pct + 0.027*year + 0.021*billion + 0.015*rate + 0.013*compani + 0.013*earn + 0.012*profit + 0.012*quarter + 0.011*expect')]"
      ]
     },
     "execution_count": 9,
     "metadata": {},
     "output_type": "execute_result"
    }
   ],
   "source": [
    "lda.print_topics()"
   ]
  },
  {
   "cell_type": "markdown",
   "metadata": {},
   "source": [
    "Сохраним модель."
   ]
  },
  {
   "cell_type": "code",
   "execution_count": 10,
   "metadata": {
    "collapsed": true
   },
   "outputs": [],
   "source": [
    "lda.save('к8.lda')\n",
    "#lda = gensim.models.LdaModel.load('newsgroups.lda')"
   ]
  },
  {
   "cell_type": "markdown",
   "metadata": {},
   "source": [
    "1) Возьмем произвольный документ из обучающей выборки и посмотрим на качество машинной кластеризации."
   ]
  },
  {
   "cell_type": "code",
   "execution_count": 11,
   "metadata": {
    "collapsed": false
   },
   "outputs": [],
   "source": [
    "#theme earn\n",
    "exp1 = texts[54]\n",
    "exp1 = exp1.split()\n",
    "#theme crude\n",
    "exp2 = texts[90]\n",
    "exp2 = exp2.split()\n",
    "#theme money-fx\n",
    "exp3 = texts[93]\n",
    "exp3 = exp3.split()"
   ]
  },
  {
   "cell_type": "code",
   "execution_count": 12,
   "metadata": {
    "collapsed": false
   },
   "outputs": [
    {
     "data": {
      "text/plain": [
       "<gensim.models.VocabTransform at 0xaffdd44c>"
      ]
     },
     "execution_count": 12,
     "metadata": {},
     "output_type": "execute_result"
    }
   ],
   "source": [
    "exp1_id2word = Dictionary()\n",
    "exp1_id2word.merge_with(id2word)\n",
    "exp2_id2word = Dictionary()\n",
    "exp2_id2word.merge_with(id2word)\n",
    "exp3_id2word = Dictionary()\n",
    "exp3_id2word.merge_with(id2word)"
   ]
  },
  {
   "cell_type": "code",
   "execution_count": 13,
   "metadata": {
    "collapsed": false
   },
   "outputs": [],
   "source": [
    "exp1 = exp1_id2word.doc2bow(exp1)\n",
    "exp2 = exp2_id2word.doc2bow(exp2)\n",
    "exp3 = exp3_id2word.doc2bow(exp3)"
   ]
  },
  {
   "cell_type": "code",
   "execution_count": 14,
   "metadata": {
    "collapsed": false
   },
   "outputs": [
    {
     "data": {
      "text/plain": [
       "[(0, 0.87127952752497706), (2, 0.091186234223992607)]"
      ]
     },
     "execution_count": 14,
     "metadata": {},
     "output_type": "execute_result"
    }
   ],
   "source": [
    "lda[exp1]"
   ]
  },
  {
   "cell_type": "code",
   "execution_count": 15,
   "metadata": {
    "collapsed": false
   },
   "outputs": [
    {
     "data": {
      "text/plain": [
       "[(4, 0.4728323268259027), (6, 0.19633799020593204), (7, 0.32906257540184952)]"
      ]
     },
     "execution_count": 15,
     "metadata": {},
     "output_type": "execute_result"
    }
   ],
   "source": [
    "lda[exp2]"
   ]
  },
  {
   "cell_type": "code",
   "execution_count": 16,
   "metadata": {
    "collapsed": false
   },
   "outputs": [
    {
     "data": {
      "text/plain": [
       "[(3, 0.16403105064462001),\n",
       " (4, 0.26928216183096176),\n",
       " (6, 0.21371359151391128),\n",
       " (7, 0.34412049822864327)]"
      ]
     },
     "execution_count": 16,
     "metadata": {},
     "output_type": "execute_result"
    }
   ],
   "source": [
    "lda[exp3]"
   ]
  },
  {
   "cell_type": "markdown",
   "metadata": {},
   "source": [
    "Качество неидельное, но сложно было ожидать чего-то выдающегося, когда все 8 тем настолько близки."
   ]
  },
  {
   "cell_type": "markdown",
   "metadata": {},
   "source": [
    "Теперь попробуем посмотреть качество на тестовой выборке."
   ]
  },
  {
   "cell_type": "code",
   "execution_count": 17,
   "metadata": {
    "collapsed": true
   },
   "outputs": [],
   "source": [
    "#trade\n",
    "exp1 = \"japan warn retali trade disput japan warn unit state retaliatori measur unit state impos plan trade sanction april senior govern offici shinji fukukawa vice minist intern trade and industri ministri statement japan measur gener agreement tariff and trade and action unit state impos pct tariff japanes export plan week fukukawa japan readi continu trade talk unit state despit failur convinc america call threaten tariff two dai emerg talk end washington yesterdai last month presid reagan announc sanction retali for call japan failur honour juli agreement stop dump comput microchip market unit state and open home market american good fukukawa unit state had regrett not listen japan explan effort live pact and washington had not detail explan plan impos tariff reuter\""
   ]
  },
  {
   "cell_type": "code",
   "execution_count": 18,
   "metadata": {
    "collapsed": true
   },
   "outputs": [],
   "source": [
    "#earn\n",
    "exp2 = \"morgan crucibl prospect encourag morgan crucibl plc mgcr prospect for encourag order and sale significantli last year divis good opportun for growth exist and recent acquir busi for growth acquisit relat area earlier announc mln stg rise pre tax profit mln stg for year decemb turnov rose mln mln compani perform despit slowdown and australian economi half currenc fluctuat reduc pretax profit mln stg note morgan profit electron sector improv mln stg stg previous result nonetheless disappoint sale lower expect due delai defenc order and cancel had remedi action obtain busi and proceed deliveri major delai order morgan share firm two penc gmt fridai close reuter\""
   ]
  },
  {
   "cell_type": "code",
   "execution_count": 19,
   "metadata": {
    "collapsed": true
   },
   "outputs": [],
   "source": [
    "#money-fx\n",
    "exp3 = \"monei market deficit revis downward bank england revis estim todai shortfal mln stg mln take account mln stg morn assist reuter\""
   ]
  },
  {
   "cell_type": "code",
   "execution_count": 20,
   "metadata": {
    "collapsed": true
   },
   "outputs": [],
   "source": [
    "#interest\n",
    "exp4 = \"lawson countri cut rate nigel lawson britain chancellor exchequ countri cut interest rate aim maintain exchang rate stabil speak journalist dai group countri reaffirm goal set pari six week ago central bank continu interven and countri concern that japan stimul domest demand and welcom measur outlin japanes financ minist kiichi miyazawa yesterdai lawson worri risk simultan recess unit state japan and west germani gave march budget speech british parliament bit concern risk ask unit state increas interest rate support dollar for rel interest rate doesn rise interest rate unit state lawson concern express yesterdai meet slow progress unit state had made reduc budget deficit will worthwhil progress reduc deficit thi year import thing that continu year year lawson februari louvr accord call for effort stabil currenc current exchang rate six week that japanes yen continu rise dollar despit massiv central bank intervent ask whether thi intervent sign weak louvr accord don had intervent you call that sign weak intervent inflat lawson world not inflationari mode vigil yesterdai statement affirm that current level exchang rate had carefulli word mean and mean thing lawson financi market that japanes measur outlin louvr accord sourc weak for that agreement countri welcom miyazawa present plan for supplement budget stimul domest demand welcom goal increas public work spend lawson packag involv second stage increas expenditur second half thi year reuter\""
   ]
  },
  {
   "cell_type": "code",
   "execution_count": 21,
   "metadata": {
    "collapsed": false
   },
   "outputs": [],
   "source": [
    "exp1 = exp1.split()\n",
    "exp2 = exp2.split()\n",
    "exp3 = exp3.split()\n",
    "exp4 = exp4.split()"
   ]
  },
  {
   "cell_type": "code",
   "execution_count": 22,
   "metadata": {
    "collapsed": false
   },
   "outputs": [
    {
     "data": {
      "text/plain": [
       "<gensim.models.VocabTransform at 0xaffdde2c>"
      ]
     },
     "execution_count": 22,
     "metadata": {},
     "output_type": "execute_result"
    }
   ],
   "source": [
    "exp1_id2word = Dictionary()\n",
    "exp1_id2word.merge_with(id2word)\n",
    "exp2_id2word = Dictionary()\n",
    "exp2_id2word.merge_with(id2word)\n",
    "exp3_id2word = Dictionary()\n",
    "exp3_id2word.merge_with(id2word)\n",
    "exp4_id2word = Dictionary()\n",
    "exp4_id2word.merge_with(id2word)"
   ]
  },
  {
   "cell_type": "code",
   "execution_count": 23,
   "metadata": {
    "collapsed": false
   },
   "outputs": [],
   "source": [
    "exp1 = exp1_id2word.doc2bow(exp1)\n",
    "exp2 = exp2_id2word.doc2bow(exp2)\n",
    "exp3 = exp3_id2word.doc2bow(exp3)\n",
    "exp4 = exp4_id2word.doc2bow(exp4)"
   ]
  },
  {
   "cell_type": "code",
   "execution_count": 24,
   "metadata": {
    "collapsed": false
   },
   "outputs": [
    {
     "data": {
      "text/plain": [
       "[(3, 0.02172657282124113), (4, 0.97383943951103702)]"
      ]
     },
     "execution_count": 24,
     "metadata": {},
     "output_type": "execute_result"
    }
   ],
   "source": [
    "lda[exp1]"
   ]
  },
  {
   "cell_type": "code",
   "execution_count": 25,
   "metadata": {
    "collapsed": false
   },
   "outputs": [
    {
     "data": {
      "text/plain": [
       "[(2, 0.078983904807677016),\n",
       " (4, 0.033404170240665505),\n",
       " (6, 0.016800941863671648),\n",
       " (7, 0.86691158638031596)]"
      ]
     },
     "execution_count": 25,
     "metadata": {},
     "output_type": "execute_result"
    }
   ],
   "source": [
    "lda[exp2]"
   ]
  },
  {
   "cell_type": "code",
   "execution_count": 26,
   "metadata": {
    "collapsed": false
   },
   "outputs": [
    {
     "data": {
      "text/plain": [
       "[(7, 0.96988722889239309)]"
      ]
     },
     "execution_count": 26,
     "metadata": {},
     "output_type": "execute_result"
    }
   ],
   "source": [
    "lda[exp3]"
   ]
  },
  {
   "cell_type": "code",
   "execution_count": 27,
   "metadata": {
    "collapsed": false
   },
   "outputs": [
    {
     "data": {
      "text/plain": [
       "[(4, 0.84345780852819485), (7, 0.14697400655972523)]"
      ]
     },
     "execution_count": 27,
     "metadata": {},
     "output_type": "execute_result"
    }
   ],
   "source": [
    "lda[exp4]"
   ]
  },
  {
   "cell_type": "markdown",
   "metadata": {},
   "source": [
    "Проблема все та же: все 8 тем довольно близки по смыслу + выборка довольно небольшая => Качество классификации оставляет желать лучшего."
   ]
  }
 ],
 "metadata": {
  "kernelspec": {
   "display_name": "Python 2",
   "language": "python",
   "name": "python2"
  },
  "language_info": {
   "codemirror_mode": {
    "name": "ipython",
    "version": 2
   },
   "file_extension": ".py",
   "mimetype": "text/x-python",
   "name": "python",
   "nbconvert_exporter": "python",
   "pygments_lexer": "ipython2",
   "version": "2.7.6"
  }
 },
 "nbformat": 4,
 "nbformat_minor": 0
}
